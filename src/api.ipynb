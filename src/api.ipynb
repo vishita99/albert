{
  "cells": [
    {
      "cell_type": "code",
      "metadata": {},
      "source": [
        "import albert\n",
        "import hashlib\n",
        "import base64\n",
        "from flask import Flask, escape, request, render_template\n",
        "\n",
        "app = Flask(__name__)\n",
        "\n",
        "documents = {}\n",
        "\n",
        "\n",
        "@app.route(\"/\")\n",
        "def serve_app():\n",
        "    return render_template('index.html')\n",
        "\n",
        "\n",
        "@app.route(\"/documents\", methods=['POST'])\n",
        "def add_context():\n",
        "    text = request.data\n",
        "\n",
        "    m = hashlib.sha256(text)\n",
        "    id = base64.urlsafe_b64encode(m.digest()[:10])\n",
        "    documents[id] = text\n",
        "\n",
        "    return id\n",
        "\n",
        "\n",
        "@app.route(\"/documents/<string:id>/answer\")\n",
        "def answer(id):\n",
        "    _id = bytes(id, 'utf-8')\n",
        "    if _id not in documents.keys():\n",
        "        return \"No document for that ID\", 404\n",
        "\n",
        "    question = request.args.get(\"question\")\n",
        "    if not question:\n",
        "        return \"question parameter required\"\n",
        "    model = request.args.get(\"model\")\n",
        "    if not model:\n",
        "        model = 'albert-large-v2'\n",
        "\n",
        "    document = documents[_id].decode('utf-8')\n",
        "\n",
        "    answer = albert.get_answer(model, document, question)\n",
        "    if not answer:\n",
        "        return \"ALBERT was unable to answer the question\"\n",
        "    return answer\n"
      ],
      "outputs": [],
      "execution_count": null
    }
  ],
  "metadata": {
    "anaconda-cloud": {},
    "kernelspec": {
      "display_name": "Python 3",
      "language": "python",
      "name": "python3"
    },
    "language_info": {
      "codemirror_mode": {
        "name": "ipython",
        "version": 3
      },
      "file_extension": ".py",
      "mimetype": "text/x-python",
      "name": "python",
      "nbconvert_exporter": "python",
      "pygments_lexer": "ipython3",
      "version": "3.6.1"
    }
  },
  "nbformat": 4,
  "nbformat_minor": 4
}