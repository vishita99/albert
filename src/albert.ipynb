{
  "cells": [
    {
      "cell_type": "code",
      "metadata": {},
      "source": [
        "# To evaluate this file in a REPL:\n",
        "# exec(open(\"./src/albert.py\").read())\n",
        "\n",
        "from transformers import AlbertTokenizer, AlbertForQuestionAnswering\n",
        "import torch\n",
        "\n",
        "\n",
        "def load_model(pretrained_model):\n",
        "    # Other models to try: albert-large-v2, albert-xlarge-v2\n",
        "    # https://huggingface.co/transformers/pretrained_models.html\n",
        "    tokenizer = AlbertTokenizer.from_pretrained(\n",
        "        pretrained_model, do_lower_case=True)\n",
        "    model = AlbertForQuestionAnswering.from_pretrained(\n",
        "        pretrained_model, cache_dir=\"/usr/cache\")\n",
        "    return model, tokenizer\n",
        "\n",
        "\n",
        "def get_answer(model, context, question):\n",
        "    model, tokenizer = load_model(model)\n",
        "    input_dict = tokenizer.encode_plus(question, context, return_tensors='pt')\n",
        "    start_scores, end_scores = model(**input_dict)\n",
        "\n",
        "    all_tokens = tokenizer.convert_ids_to_tokens(input_dict['input_ids'][0])\n",
        "    res = all_tokens[torch.argmax(start_scores): torch.argmax(end_scores)+1]\n",
        "\n",
        "    return ' '.join(all_tokens[torch.argmax(start_scores):\n",
        "                               torch.argmax(end_scores)+1])\n"
      ],
      "outputs": [],
      "execution_count": null
    }
  ],
  "metadata": {
    "anaconda-cloud": {},
    "kernelspec": {
      "display_name": "Python 3",
      "language": "python",
      "name": "python3"
    },
    "language_info": {
      "codemirror_mode": {
        "name": "ipython",
        "version": 3
      },
      "file_extension": ".py",
      "mimetype": "text/x-python",
      "name": "python",
      "nbconvert_exporter": "python",
      "pygments_lexer": "ipython3",
      "version": "3.6.1"
    }
  },
  "nbformat": 4,
  "nbformat_minor": 4
}